{
 "cells": [
  {
   "cell_type": "markdown",
   "metadata": {},
   "source": [
    "# Disneyland - Attraction Clustering"
   ]
  },
  {
   "cell_type": "markdown",
   "metadata": {},
   "source": [
    "## Data - Requirements\n",
    "For now, the scope of this project will be limited to the attractions (rides & performances) available in both parks of The Disneyland Resort in California and the numerous sections included in each (i.e Fantasyland, Adventureland, etc.) Future installments can be modified to include shops, eateries, meet-ups, and other attractions at any number of the Disney Park locations around the world.\n",
    "\n",
    "Some data requirments needed for this project include:\n",
    "    1. Ride location\n",
    "    2. Wait Time\n",
    "    3. Ride Type (i.e roller-coaster, monorail, go-cart)\n",
    "    4. Ride Length\n",
    "    5. Ride Rating\n",
    "    \n",
    "Additional datapoints that could prove useful may include:\n",
    "    - Height Requirements\n",
    "    - Whether or not a ride will wet passengers"
   ]
  },
  {
   "cell_type": "markdown",
   "metadata": {},
   "source": [
    "## Data - Collection\n",
    "Disney, due to its monolithic popularity, has no shortage of documentation and datasets from which to retrieve the necesssary information. \n",
    "\n",
    "Some sites that may be used include:\n",
    "    1. Wikipedia: \n",
    "        - For general attraction names and locations\n",
    "    2. Disneyland Go: \n",
    "        - For attraction hours of availibity and restrictions\n",
    "    3. LaughingPlace:\n",
    "        - For attraction wait times and ratings\n",
    "        \n",
    "Foursquare API will also be integrated for location information."
   ]
  }
 ],
 "metadata": {
  "kernelspec": {
   "display_name": "Python 3",
   "language": "python",
   "name": "python3"
  },
  "language_info": {
   "codemirror_mode": {
    "name": "ipython",
    "version": 3
   },
   "file_extension": ".py",
   "mimetype": "text/x-python",
   "name": "python",
   "nbconvert_exporter": "python",
   "pygments_lexer": "ipython3",
   "version": "3.7.4"
  }
 },
 "nbformat": 4,
 "nbformat_minor": 4
}
