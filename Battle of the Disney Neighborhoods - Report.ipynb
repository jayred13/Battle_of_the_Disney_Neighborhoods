{
 "cells": [
  {
   "cell_type": "markdown",
   "metadata": {},
   "source": [
    "# Disneyland - Attraction Clustering\n",
    "Loyda, Jayred\n",
    "![Disneyland Resort Map](http://www.magicalkingdoms.com/dlc/photos/maps/resortarea.png)\n",
    "http://www.magicalkingdoms.com/dlc/photos/maps/resortarea.png"
   ]
  },
  {
   "cell_type": "markdown",
   "metadata": {
    "toc": true
   },
   "source": [
    "<h1>Table of Contents<span class=\"tocSkip\"></span></h1>\n",
    "<div class=\"toc\"><ul class=\"toc-item\"><li><span><a href=\"#1.-Introduction\" data-toc-modified-id=\"1.-Introduction-1\">1. Introduction</a></span><ul class=\"toc-item\"><li><span><a href=\"#1.1-Background\" data-toc-modified-id=\"1.1-Background-1.1\">1.1 Background</a></span></li><li><span><a href=\"#1.2-Problem\" data-toc-modified-id=\"1.2-Problem-1.2\">1.2 Problem</a></span></li><li><span><a href=\"#1.3-Interest\" data-toc-modified-id=\"1.3-Interest-1.3\">1.3 Interest</a></span></li></ul></li><li><span><a href=\"#2.-Data-Acquisition\" data-toc-modified-id=\"2.-Data-Acquisition-2\">2. Data Acquisition</a></span><ul class=\"toc-item\"><li><span><a href=\"#2.1-Data-Requirements\" data-toc-modified-id=\"2.1-Data-Requirements-2.1\">2.1 Data Requirements</a></span></li><li><span><a href=\"#2.2-Data-Sources\" data-toc-modified-id=\"2.2-Data-Sources-2.2\">2.2 Data Sources</a></span></li><li><span><a href=\"#2.3-Data-Cleaning\" data-toc-modified-id=\"2.3-Data-Cleaning-2.3\">2.3 Data Cleaning</a></span></li></ul></li><li><span><a href=\"#3.-Exploratory-Data-Analysis\" data-toc-modified-id=\"3.-Exploratory-Data-Analysis-3\">3. Exploratory Data Analysis</a></span><ul class=\"toc-item\"><li><span><a href=\"#3.1-Attractions-and-Sections\" data-toc-modified-id=\"3.1-Attractions-and-Sections-3.1\">3.1 Attractions and Sections</a></span></li><li><span><a href=\"#3.2-Attractions-Types-and-Sections\" data-toc-modified-id=\"3.2-Attractions-Types-and-Sections-3.2\">3.2 Attractions Types and Sections</a></span></li><li><span><a href=\"#3.3-Popular-Attractions\" data-toc-modified-id=\"3.3-Popular-Attractions-3.3\">3.3 Popular Attractions</a></span></li><li><span><a href=\"#3.4-Attractions-and-Wait-Times\" data-toc-modified-id=\"3.4-Attractions-and-Wait-Times-3.4\">3.4 Attractions and Wait Times</a></span></li><li><span><a href=\"#3.5-Attraction-Popularity-vs-Wait-Times\" data-toc-modified-id=\"3.5-Attraction-Popularity-vs-Wait-Times-3.5\">3.5 Attraction Popularity vs Wait Times</a></span></li></ul></li><li><span><a href=\"#4.-Methodology\" data-toc-modified-id=\"4.-Methodology-4\">4. Methodology</a></span><ul class=\"toc-item\"><li><span><a href=\"#Overview\" data-toc-modified-id=\"Overview-4.1\">Overview</a></span></li><li><span><a href=\"#4.1-Web-Scraping---Wikipedia\" data-toc-modified-id=\"4.1-Web-Scraping---Wikipedia-4.2\">4.1 Web Scraping - Wikipedia</a></span></li><li><span><a href=\"#4.2-Web-Scraping---The-Laughing-Place\" data-toc-modified-id=\"4.2-Web-Scraping---The-Laughing-Place-4.3\">4.2 Web Scraping - The Laughing Place</a></span></li><li><span><a href=\"#4.3-Foursquare---Attraction-Coordinate-Identification\" data-toc-modified-id=\"4.3-Foursquare---Attraction-Coordinate-Identification-4.4\">4.3 Foursquare - Attraction Coordinate Identification</a></span></li><li><span><a href=\"#4.4-K-means-Attraction-Clustering\" data-toc-modified-id=\"4.4-K-means-Attraction-Clustering-4.5\">4.4 K-means Attraction Clustering</a></span><ul class=\"toc-item\"><li><span><a href=\"#4.4.1-Popular-Attractions\" data-toc-modified-id=\"4.4.1-Popular-Attractions-4.5.1\">4.4.1 Popular Attractions</a></span></li><li><span><a href=\"#4.4.2--Wait-Times\" data-toc-modified-id=\"4.4.2--Wait-Times-4.5.2\">4.4.2  Wait Times</a></span></li></ul></li></ul></li><li><span><a href=\"#5.-Conclusions\" data-toc-modified-id=\"5.-Conclusions-5\">5. Conclusions</a></span></li><li><span><a href=\"#6.-Future-Directions\" data-toc-modified-id=\"6.-Future-Directions-6\">6. Future Directions</a></span></li></ul></div>"
   ]
  },
  {
   "cell_type": "markdown",
   "metadata": {
    "heading_collapsed": true
   },
   "source": [
    "## 1. Introduction"
   ]
  },
  {
   "cell_type": "markdown",
   "metadata": {
    "hidden": true
   },
   "source": [
    "### 1.1 Background"
   ]
  },
  {
   "cell_type": "markdown",
   "metadata": {
    "hidden": true
   },
   "source": [
    "The Disneyland Resort in California, at an [estimated 510 acres](https://www.getawaytoday.com/travel-blog/disneyland-vs-disney-world-part-one), consists of 2 separate theme parks. Disneyland and California Adventure, spanning [85 and 75 acres respectively](https://www.adventurestudenttravel.com/8-differences-between-disneyland-and-disneys-california-adventure/), are some of the most sought after tourist destinations in the world. The Disneyland park alone averages around [50,000 visitors daily](https://www.ocregister.com/2019/07/02/7-reasons-why-disneyland-feels-less-crowded-this-summer-after-the-opening-of-star-wars-galaxys-edge/). "
   ]
  },
  {
   "cell_type": "markdown",
   "metadata": {
    "hidden": true
   },
   "source": [
    "### 1.2 Problem"
   ]
  },
  {
   "cell_type": "markdown",
   "metadata": {
    "hidden": true
   },
   "source": [
    "Navigating such a large/crowded environment can be a daunting and overwhelming experience for visitors, especially when they aren't certain as to which kind of attraction they aim to see or even what is available to them. So here in lies the problem...\n",
    "\n",
    "_**How can a Disneyland visitor better understand where to spend their time?**_"
   ]
  },
  {
   "cell_type": "markdown",
   "metadata": {
    "hidden": true
   },
   "source": [
    "### 1.3 Interest"
   ]
  },
  {
   "cell_type": "markdown",
   "metadata": {
    "hidden": true
   },
   "source": [
    "Disneyland visitors, more so first-timers, are the target audience for this project as they would have the most to gain from a better understanding of what each park has to offer. However, curiosity into this exploration may extend to the Disneyland stakeholders as more people find what peaks their interest. \n",
    "***"
   ]
  },
  {
   "cell_type": "markdown",
   "metadata": {
    "heading_collapsed": true
   },
   "source": [
    "## 2. Data Acquisition"
   ]
  },
  {
   "cell_type": "markdown",
   "metadata": {
    "hidden": true
   },
   "source": [
    "### 2.1 Data Requirements"
   ]
  },
  {
   "cell_type": "markdown",
   "metadata": {
    "hidden": true
   },
   "source": [
    "For now, the scope of this project will be limited to the attractions (rides & performances) available in both parks of The Disneyland Resort in California and the numerous sections included in each park (i.e Fantasyland, Adventureland, etc). Future installments can be modified to include shops, eateries, meet-ups, and other attractions at any number of the Disney Park locations around the world.\n",
    "\n",
    "Some data requirements needed for this project include:\n",
    "    1. Ride location\n",
    "    2. Wait Time\n",
    "    3. Ride Type (i.e roller-coaster, monorail, go-cart)\n",
    "    4. Ride Length\n",
    "    5. Ride Rating\n",
    "    \n",
    "Additional data points that proved to be useful include:\n",
    "    - Height Requirements\n",
    "    - Whether or not a ride will wet passengers"
   ]
  },
  {
   "cell_type": "markdown",
   "metadata": {
    "hidden": true
   },
   "source": [
    "### 2.2 Data Sources"
   ]
  },
  {
   "cell_type": "markdown",
   "metadata": {
    "hidden": true
   },
   "source": [
    "Disney, due to its monolithic popularity, has no shortage of documentation and datasets from which to retrieve the necesssary information. \n",
    "\n",
    "Sources used include:\n",
    "    1. Wikipedia: \n",
    "        - For general attraction names and locations\n",
    "    2. LaughingPlace:\n",
    "        - For attraction wait times, ratings, and other details\n",
    "    3. Foursquare API \n",
    "        - For accurate location information."
   ]
  },
  {
   "cell_type": "markdown",
   "metadata": {
    "hidden": true
   },
   "source": [
    "### 2.3 Data Cleaning"
   ]
  },
  {
   "cell_type": "markdown",
   "metadata": {
    "hidden": true
   },
   "source": [
    "Data points were gathered from multiple sources and combined into one comprehensive Disneyland attraction featureset. \n",
    "\n",
    "Some attractions, like the Railroad and the Monorail, extend into multiple sections of the park, so they appeared on multiple occasions in the dataset. In this case, only the first apppearence was kept, while the duplicates were dropped.\n",
    "\n",
    "Several attractions, including \"It's a Small World\" and \"The Haunted Mansion\", did not have available wait times or information. These attractions were included in some exploratory analysis stages, but excluded from clustering.\n",
    "\n",
    "Merging the two datasets received from Wikipedia and TheLaughingPlace could not be done via the conventional pandas merge and drop-duplicate approach. Instead, a method to find similar names between the two datasets needed to be created and then attractions would be dropped based on the shortest name.\n",
    "***"
   ]
  },
  {
   "cell_type": "markdown",
   "metadata": {},
   "source": [
    "## 3. Exploratory Data Analysis"
   ]
  },
  {
   "cell_type": "markdown",
   "metadata": {
    "heading_collapsed": true
   },
   "source": [
    "### 3.1 Attractions and Sections"
   ]
  },
  {
   "attachments": {},
   "cell_type": "markdown",
   "metadata": {
    "hidden": true
   },
   "source": [
    "Plotting the number of attractions available in each section of the park reveals that Fantasyland towers over the other sections with 17 attractions available.\n",
    "\n",
    "![disneyland_num_attractions.png](https://i.imgur.com/qYmMcnH.png)\n",
    "_Figure 1. Number of attractions found in the Disneyland & California Adventure Wikipedia_"
   ]
  },
  {
   "cell_type": "markdown",
   "metadata": {
    "heading_collapsed": true
   },
   "source": [
    "### 3.2 Attractions Types and Sections"
   ]
  },
  {
   "attachments": {},
   "cell_type": "markdown",
   "metadata": {
    "hidden": true
   },
   "source": [
    "Listed below are the three most common attractions in each section of the parks. From this view it is apparent that California Disneyland Resort favors Thrill Rides(Non-Coaster), Slow Moving Boat Rides, and Dark Rides.\n",
    "\n",
    "![disneyland_common_attractions.png](https://i.imgur.com/g2tTvei.png)\n",
    "_Figure 2. The three most common attraction types based on sections of the parks at California's Disneyland Resort_"
   ]
  },
  {
   "cell_type": "markdown",
   "metadata": {
    "heading_collapsed": true
   },
   "source": [
    "### 3.3 Popular Attractions"
   ]
  },
  {
   "attachments": {},
   "cell_type": "markdown",
   "metadata": {
    "hidden": true
   },
   "source": [
    "The popularity of an attraction is found through the number of attendees that visit the attraction and the overall rating of the ride.\n",
    "\n",
    "![disneyland_pop_attractions.png](https://i.imgur.com/eLEsyOP.png)\n",
    "_Figure 3. Attraction popularity based on information recieved via TheLaughingPlace_"
   ]
  },
  {
   "cell_type": "markdown",
   "metadata": {
    "heading_collapsed": true
   },
   "source": [
    "### 3.4 Attractions and Wait Times"
   ]
  },
  {
   "attachments": {},
   "cell_type": "markdown",
   "metadata": {
    "hidden": true
   },
   "source": [
    "Disneyland attractions are infamous for their long wait times. As the park is only open 8-10 hours a day, knowledge of these times is vital in planning. For instance, if a visitor wants to ride the \"Radiator Springs Racers\" attraction multiple times, they may just find themselves waiting in a line for a majority of their trip.  \n",
    "\n",
    "![disneyland_wait_attractions.png](https://i.imgur.com/SNdcpnn.png)\n",
    "_Figure 4. Attraction wait times recieved via TheLaughingPlace_"
   ]
  },
  {
   "cell_type": "markdown",
   "metadata": {
    "heading_collapsed": true
   },
   "source": [
    "### 3.5 Attraction Popularity vs Wait Times"
   ]
  },
  {
   "attachments": {},
   "cell_type": "markdown",
   "metadata": {
    "hidden": true
   },
   "source": [
    "When plotted against each other, it becomes apparent that these 2 features do not share a linear relationship as some may assume. A ride such as \"Monsters, Inc. Mike & Sulley to the Rescue!\" finds it's visitors in line longer than its relative popularity would have them believe.\n",
    "\n",
    "![disneyland_pop_vs_wait_attractions.png](https://i.imgur.com/14YSfY7.png)\n",
    "_Figure 5. Attraction popularity vs. wait times based on information recieved via TheLaughingPlace_\n",
    "***"
   ]
  },
  {
   "cell_type": "markdown",
   "metadata": {},
   "source": [
    "## 4. Methodology "
   ]
  },
  {
   "cell_type": "markdown",
   "metadata": {},
   "source": [
    "### Overview"
   ]
  },
  {
   "cell_type": "markdown",
   "metadata": {},
   "source": [
    "1. Find/Fetch which attractions reside in Disneyland and California Adventure.\n",
    "2. Find/Fetch details about each attraction (i.e. wait time, type, length, rating).\n",
    "3. Utilize Foursquare API to find location coordinates of each attraction.\n",
    "4. Implement a machine-learning clustering process (k-means) to group sections of the park based on attraction information."
   ]
  },
  {
   "cell_type": "markdown",
   "metadata": {},
   "source": [
    "### 4.1 Web Scraping - Wikipedia"
   ]
  },
  {
   "attachments": {},
   "cell_type": "markdown",
   "metadata": {},
   "source": [
    "As stated, the first step of this project is to find out which attractions exist in the California Disneyland Resort location. This task can be accomplished in a multitude of methods. One such strategy, implemented in the following Jupyter Notebook, is to make use of the plethora of websites and databases dedicated to Disneyland Attractions.\n",
    "\n",
    "_**Addendum:** Another approach involves using Foursquare's \"explore\" function to discover which venues exist in the Disneyland radius. However, this method, part of the first iteration of the project, proved to miss out on some of the attractions._\n",
    "\n",
    "![disneyland_wiki.png](https://i.imgur.com/RvtdTXu.png)\n",
    "_Figure 6. Table of attractions and park sections listed on Disneyland's Wikipedia page._"
   ]
  },
  {
   "cell_type": "markdown",
   "metadata": {},
   "source": [
    "### 4.2 Web Scraping - The Laughing Place"
   ]
  },
  {
   "cell_type": "markdown",
   "metadata": {},
   "source": [
    "The Laughing Place is a third-party website, not affiliated or endorsed by Disney, that is dedicated to providing potential visitors with information they may not be able to access through mainstream Disney services. This can include live and average wait times, refurbishment schedules and general updates regarding any of the parks.\n",
    "\n",
    "_**Addendum:** The original plan for the project was to use the main \"disneyland.go\" website hosted by the actual Disney foundation, however, the website seemed to use an html 'data-plugin' that caused difficulty in web scraping. The Laughing Place offered a reasonable alternative._"
   ]
  },
  {
   "attachments": {},
   "cell_type": "markdown",
   "metadata": {},
   "source": [
    "![disneyland_avg_wait.png](https://i.imgur.com/53ePNdr.png)\n",
    "_Figure 7. Section of the 'Average Attraction Wait Time' table offered on TheLaughingPlace_"
   ]
  },
  {
   "cell_type": "markdown",
   "metadata": {},
   "source": [
    "### 4.3 Foursquare - Attraction Coordinate Identification "
   ]
  },
  {
   "cell_type": "markdown",
   "metadata": {},
   "source": [
    "Using Foursqure's developer API, a 'search' function was called for each attraction and the latitude and longitude were retrieved. "
   ]
  },
  {
   "attachments": {},
   "cell_type": "markdown",
   "metadata": {},
   "source": [
    "![disneyland_attraction_map.png](https://i.imgur.com/CmLjEE2.png)\n",
    "_Figure 8. Map of attractions with available wait times at California's Disneyland Resort_"
   ]
  },
  {
   "cell_type": "markdown",
   "metadata": {},
   "source": [
    "### 4.4 K-means Attraction Clustering "
   ]
  },
  {
   "cell_type": "markdown",
   "metadata": {},
   "source": [
    "A clustering model was selected to group areas of the park that share a certain criteria, and provide visitors with a better understanding of the park's setup and overall flow. Due to the park's large nature and time constraints for visiting areas, this seemed a natural decision\n",
    "\n",
    "Clustering is type of unsupervised learning method. The task of the model is to divide the population or data points into a number of groups such that data points in the same groups are more similar to other data points in the same group and dissimilar to the data points in other groups. It is basically a collection of objects on the basis of similarity and dissimilarity between them.\n",
    "\n",
    "[K-means clustering algorithm](https://www.geeksforgeeks.org/clustering-in-machine-learning/) is the simplest unsupervised learning algorithm that solves clustering problem. K-means algorithm partition n observations into k clusters where each observation belongs to the cluster with the nearest mean serving as a prototype of the cluster."
   ]
  },
  {
   "cell_type": "markdown",
   "metadata": {},
   "source": [
    "#### 4.4.1 Popular Attractions"
   ]
  },
  {
   "attachments": {},
   "cell_type": "markdown",
   "metadata": {},
   "source": [
    "In this case, clusters denote areas of the park that may see higher traffic than others based on their attractions.\n",
    "\n",
    "![disneyland_pop_cluster.png](https://i.imgur.com/8grhZvh.png)\n",
    "_Figure 9. Cluster map of attractions based on popularity at California's Disneyland Resort_"
   ]
  },
  {
   "attachments": {},
   "cell_type": "markdown",
   "metadata": {},
   "source": [
    "![disneyland_pop_cluster_section.png](https://i.imgur.com/zEgKA3U.png)\n",
    "_Figure 10. Detailed View of the cluster map of attractions based on popularity at California's Disneyland Resort_"
   ]
  },
  {
   "cell_type": "markdown",
   "metadata": {},
   "source": [
    "#### 4.4.2  Wait Times"
   ]
  },
  {
   "attachments": {},
   "cell_type": "markdown",
   "metadata": {},
   "source": [
    "The following clusters are based on wait times for the attractions. Visitors may use this if they are aiming to spend little time in lines without breaking the bank for a Fast Pass.\n",
    "\n",
    "![disneyland_wait_cluster.png](https://i.imgur.com/TFhDw9o.png)\n",
    "_Figure 11. Cluster Map of attractions based on wait times at California's Disneyland Resort_"
   ]
  },
  {
   "attachments": {},
   "cell_type": "markdown",
   "metadata": {},
   "source": [
    "![disneyland_wait_cluster_section.png](https://i.imgur.com/WuzYdGs.png)\n",
    "_Figure 12. Detailed view of the cluster map of attractions based on wait times at California's Disneyland Resort_"
   ]
  },
  {
   "cell_type": "markdown",
   "metadata": {},
   "source": [
    "## 5. Conclusions"
   ]
  },
  {
   "cell_type": "markdown",
   "metadata": {},
   "source": [
    "An analysis was performed on the attractions available at California's Disneyland Resort to provide visitors with a better understanding of what the parks have to offer.\n",
    "\n",
    "Some findings from this study include:\n",
    "1. Tomorrowland and Fantasyland host highly popular attractions and are likely to be the higher traffic areas in the two parks. \n",
    "2. The three most common types of rides at the park are Thrill Rides(Non-Coaster), Slow Moving Boat Rides, and Dark Rides.\n",
    "3. \"Radiator Springs Racers\" is the most popular attraction and holds the longest average wait time.\n",
    "4. Attraction popularity does not directly correlate to wait time. Some attractions have relatively long wait times given their lower popularity score.\n",
    "\n",
    "_**Addendum:** Although many of the sources used were up-to-date on the attractions available and the details of each attraction were quite current, some highly sought after attractions were found to be missing from the final clusterings. Upon inspection, attractions in Star Wars: Galaxy's Edge were not present due to the lack of a wait time available._\n",
    "\n",
    "_Additionally, it seems that the \"Alice in Wonderland\" ride returns the wrong coordinates when sent through the Foursquare API, as the final clustering places it in the parking lot._"
   ]
  },
  {
   "cell_type": "markdown",
   "metadata": {},
   "source": [
    "## 6. Future Directions"
   ]
  },
  {
   "cell_type": "markdown",
   "metadata": {},
   "source": [
    "This study of what California's Disneyland Resort has to offer is far from comprehensive. Many improvements and extensions can be made to better improve the goal of providing visitors with a better understanding of what is available to them.\n",
    "\n",
    "In future iterations, further using the 'Disneyland Go' website and mobile app may aid in the problem of losing attractions that don't have wait times or information available. \n",
    "\n",
    "Including prices and destinations such as eateries and shops would vastly increase the usefulness of this study as the attractions are only a fragment of what visitors aim to see.\n",
    "\n",
    "Furthermore, adding other Disney themepark locations such as Disneyworld, Disney Paris, and Disney Tokyo could allow for visitors to find a location that features more of what they favor.\n",
    "\n",
    "Finally, a content-based recommender system could be incorporated into users with a Disney+ account, as they could be offered a tailor-made experience based on their favorite movies, shows, characters, etc."
   ]
  }
 ],
 "metadata": {
  "hide_input": false,
  "kernelspec": {
   "display_name": "Python 3",
   "language": "python",
   "name": "python3"
  },
  "language_info": {
   "codemirror_mode": {
    "name": "ipython",
    "version": 3
   },
   "file_extension": ".py",
   "mimetype": "text/x-python",
   "name": "python",
   "nbconvert_exporter": "python",
   "pygments_lexer": "ipython3",
   "version": "3.7.4"
  },
  "toc": {
   "base_numbering": 1,
   "nav_menu": {
    "height": "494px",
    "width": "418px"
   },
   "number_sections": false,
   "sideBar": true,
   "skip_h1_title": true,
   "title_cell": "Table of Contents",
   "title_sidebar": "Contents",
   "toc_cell": true,
   "toc_position": {
    "height": "calc(100% - 180px)",
    "left": "10px",
    "top": "150px",
    "width": "177.444px"
   },
   "toc_section_display": true,
   "toc_window_display": true
  },
  "varInspector": {
   "cols": {
    "lenName": 16,
    "lenType": 16,
    "lenVar": 40
   },
   "kernels_config": {
    "python": {
     "delete_cmd_postfix": "",
     "delete_cmd_prefix": "del ",
     "library": "var_list.py",
     "varRefreshCmd": "print(var_dic_list())"
    },
    "r": {
     "delete_cmd_postfix": ") ",
     "delete_cmd_prefix": "rm(",
     "library": "var_list.r",
     "varRefreshCmd": "cat(var_dic_list()) "
    }
   },
   "types_to_exclude": [
    "module",
    "function",
    "builtin_function_or_method",
    "instance",
    "_Feature"
   ],
   "window_display": false
  }
 },
 "nbformat": 4,
 "nbformat_minor": 4
}
