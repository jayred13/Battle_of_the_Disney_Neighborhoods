{
 "cells": [
  {
   "cell_type": "markdown",
   "metadata": {},
   "source": [
    "# Disneyland - Attraction Clustering\n",
    "![Disneyland Resort Map](http://www.magicalkingdoms.com/dlc/photos/maps/resortarea.png)\n",
    "http://www.magicalkingdoms.com/dlc/photos/maps/resortarea.png\n",
    "\n",
    "## Introduction/Business Problem\n",
    "The Disneyland Resort in California, at an [estimated 510 acres](https://www.getawaytoday.com/travel-blog/disneyland-vs-disney-world-part-one), consists of 2 seperate themeparks. Disneyland and California Adventure, spanning [85 and 75 acres respectively](https://www.adventurestudenttravel.com/8-differences-between-disneyland-and-disneys-california-adventure/), are some of the most sought after tourist destinations in the world. The Disneyland park alone averages around [50,000 visitors daily](https://www.ocregister.com/2019/07/02/7-reasons-why-disneyland-feels-less-crowded-this-summer-after-the-opening-of-star-wars-galaxys-edge/). Navigating such a large/crowded environment can be a daunting and overwheiming experience for first time visitors, especially when they aren't certain as to which kind of attraction they aim to see or are available to them. So here in lies the problem...\n",
    "\n",
    "_**How can a Disneyland visitor better understand where to spend their time?**_"
   ]
  }
 ],
 "metadata": {
  "kernelspec": {
   "display_name": "Python 3",
   "language": "python",
   "name": "python3"
  },
  "language_info": {
   "codemirror_mode": {
    "name": "ipython",
    "version": 3
   },
   "file_extension": ".py",
   "mimetype": "text/x-python",
   "name": "python",
   "nbconvert_exporter": "python",
   "pygments_lexer": "ipython3",
   "version": "3.7.4"
  }
 },
 "nbformat": 4,
 "nbformat_minor": 4
}
